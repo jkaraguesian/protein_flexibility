{
  "cells": [
    {
      "cell_type": "markdown",
      "source": [
        "# Installs and imports"
      ],
      "metadata": {
        "id": "8N-27l0ZrkG9"
      },
      "id": "8N-27l0ZrkG9"
    },
    {
      "cell_type": "code",
      "source": [
        "!pip install torch_geometric"
      ],
      "metadata": {
        "id": "W2NqhFZurjud"
      },
      "id": "W2NqhFZurjud",
      "execution_count": null,
      "outputs": []
    },
    {
      "cell_type": "code",
      "source": [
        "import pandas as pd\n",
        "import numpy as np\n",
        "from matplotlib import pyplot as plt\n",
        "from tqdm import tqdm\n",
        "import pickle as pkl\n",
        "\n",
        "from sklearn.compose import ColumnTransformer\n",
        "from sklearn.preprocessing import StandardScaler\n",
        "from sklearn.model_selection import train_test_split\n",
        "\n",
        "import torch\n",
        "from torch import nn\n",
        "from torch_geometric.data import Dataset, DataLoader, Data\n",
        "from torch_geometric.nn import GraphConv\n",
        "from torch_geometric.utils import to_undirected"
      ],
      "metadata": {
        "id": "gYKL6q7jLpZ0"
      },
      "id": "gYKL6q7jLpZ0",
      "execution_count": 2,
      "outputs": []
    },
    {
      "cell_type": "markdown",
      "source": [
        "# Utils"
      ],
      "metadata": {
        "id": "gQJr6qCuwhWf"
      },
      "id": "gQJr6qCuwhWf"
    },
    {
      "cell_type": "markdown",
      "source": [
        "### Plotting"
      ],
      "metadata": {
        "id": "4HeizLdqwiRD"
      },
      "id": "4HeizLdqwiRD"
    },
    {
      "cell_type": "code",
      "source": [
        "from sklearn.metrics import mean_absolute_error\n",
        "from scipy.stats import pearsonr\n",
        "\n",
        "def plot_hexbin(targ, pred, title=\"\", scale=\"linear\",\n",
        "                inc_factor = 1.1, dec_factor = 0.9,\n",
        "                bins=None, plot_helper_lines=False,\n",
        "                cmap='viridis',lims=None):\n",
        "\n",
        "    fig, ax = plt.subplots(figsize=(6,6))\n",
        "\n",
        "    mae = mean_absolute_error(targ, pred)\n",
        "    r, _ = pearsonr(targ, pred)\n",
        "\n",
        "    if scale == 'log':\n",
        "        pred = np.abs(pred) + 1e-8\n",
        "        targ = np.abs(targ) + 1e-8\n",
        "\n",
        "    lim_min = min(np.min(pred), np.min(targ))\n",
        "    if lim_min < 0:\n",
        "        if lim_min > -0.1:\n",
        "            lim_min = -0.1\n",
        "        lim_min *= inc_factor\n",
        "    else:\n",
        "        if lim_min < 0.1:\n",
        "            lim_min = -0.1\n",
        "        lim_min *= dec_factor\n",
        "    lim_max = max(np.max(pred), np.max(targ))\n",
        "    if lim_max <= 0:\n",
        "        if lim_max > -0.1:\n",
        "            lim_max = 0.2\n",
        "        lim_max *= dec_factor\n",
        "    else:\n",
        "        if lim_max < 0.1:\n",
        "            lim_max = 0.25\n",
        "        lim_max *= inc_factor\n",
        "\n",
        "    if lims:\n",
        "        lim_min = lims[0]\n",
        "        lim_max = lims[1]\n",
        "\n",
        "#     ax.set_xlim(0.8, 1.05)\n",
        "#     ax.set_ylim(0.8, 1.05)\n",
        "    ax.set_aspect('equal')\n",
        "\n",
        "    #ax.plot((lim_min, lim_max),\n",
        "    #        (lim_min, lim_max),\n",
        "    #        color='#000000',\n",
        "    #        zorder=-1,\n",
        "    #        linewidth=0.5)\n",
        "    ax.axline((0, 0), (1, 1),\n",
        "           color='#000000',\n",
        "           zorder=-1,\n",
        "           linewidth=0.5)\n",
        "\n",
        "    hb = ax.hexbin(\n",
        "        targ, pred,\n",
        "        cmap=cmap,\n",
        "        gridsize=60,\n",
        "        bins=bins,\n",
        "        mincnt=1,\n",
        "        edgecolors=None,\n",
        "        linewidths=(0.1,),\n",
        "        xscale=scale,\n",
        "        yscale=scale,\n",
        "        extent=(lim_min, lim_max, lim_min, lim_max))\n",
        "\n",
        "\n",
        "    cb = fig.colorbar(hb, shrink=0.822)\n",
        "    cb.set_label('Count')\n",
        "\n",
        "    if plot_helper_lines:\n",
        "\n",
        "        if scale == 'linear':\n",
        "            x = np.linspace(lim_min, lim_max, 50)\n",
        "            y_up = x + mae\n",
        "            y_down = x - mae\n",
        "\n",
        "        elif scale == 'log':\n",
        "            x = np.logspace(np.log10(lim_min), np.log10(lim_max), 50)\n",
        "\n",
        "            # one order of magnitude\n",
        "            y_up = np.maximum(x + 1e-2, x * 10)\n",
        "            y_down = np.minimum(np.maximum(1e-8, x - 1e-2), x / 10)\n",
        "\n",
        "            # one kcal/mol/Angs\n",
        "            y_up = x + 1\n",
        "            y_down = np.maximum(1e-8, x - 1)\n",
        "\n",
        "\n",
        "        for y in [y_up, y_down]:\n",
        "            ax.plot(x,\n",
        "                    y,\n",
        "                    color='#000000',\n",
        "                    zorder=2,\n",
        "                    linewidth=0.5,\n",
        "                    linestyle='--')\n",
        "\n",
        "    ax.set_title(title, fontsize=14)\n",
        "    ax.set_ylabel('Predicted order parameters', fontsize=12)\n",
        "    ax.set_xlabel('Experimental order parameters', fontsize=12)\n",
        "\n",
        "    ax.annotate(\"Pearson's r: %.3f \\nMAE: %.3f\" % (r, mae),\n",
        "                (0.03, 0.88),\n",
        "                xycoords='axes fraction',\n",
        "                fontsize=12)\n",
        "\n",
        "    return r, mae, ax, hb"
      ],
      "metadata": {
        "id": "wNryowHGwT9C"
      },
      "id": "wNryowHGwT9C",
      "execution_count": 3,
      "outputs": []
    },
    {
      "cell_type": "markdown",
      "source": [
        "# Data"
      ],
      "metadata": {
        "id": "dgVyg7zksLSO"
      },
      "id": "dgVyg7zksLSO"
    },
    {
      "cell_type": "code",
      "source": [
        "from google.colab import drive\n",
        "drive.mount('/content/drive')"
      ],
      "metadata": {
        "id": "9LBBPRQKwHJt",
        "colab": {
          "base_uri": "https://localhost:8080/"
        },
        "outputId": "c7c5c076-7a5c-4a65-c261-0970132da286"
      },
      "id": "9LBBPRQKwHJt",
      "execution_count": 4,
      "outputs": [
        {
          "output_type": "stream",
          "name": "stdout",
          "text": [
            "Mounted at /content/drive\n"
          ]
        }
      ]
    },
    {
      "cell_type": "code",
      "source": [
        "pdb_graphs = pkl.load(open('/content/drive/MyDrive/2022-2023/CS 229/Final Project/Code/pdb_graphs.pkl', 'rb'))"
      ],
      "metadata": {
        "id": "G2QH4PPwwHBS"
      },
      "id": "G2QH4PPwwHBS",
      "execution_count": 6,
      "outputs": []
    },
    {
      "cell_type": "code",
      "source": [
        "err_ids = []\n",
        "for i,entry in pdb_graphs.items():\n",
        "  if len(entry[0]) != len(entry[3]):\n",
        "    err_ids.append(i)"
      ],
      "metadata": {
        "id": "2RVK7Dh-RDw-"
      },
      "id": "2RVK7Dh-RDw-",
      "execution_count": 7,
      "outputs": []
    },
    {
      "cell_type": "code",
      "source": [
        "print(len(pdb_graphs))\n",
        "pdb_graphs = {k:v for k,v in pdb_graphs.items() if k not in err_ids}\n",
        "print(len(pdb_graphs))"
      ],
      "metadata": {
        "colab": {
          "base_uri": "https://localhost:8080/"
        },
        "id": "2e37XrdQRFCi",
        "outputId": "4b9513c9-5ee4-4cef-a73a-84882dc9cc4b"
      },
      "id": "2e37XrdQRFCi",
      "execution_count": 8,
      "outputs": [
        {
          "output_type": "stream",
          "name": "stdout",
          "text": [
            "940\n",
            "924\n"
          ]
        }
      ]
    },
    {
      "cell_type": "code",
      "source": [
        "node_features = [entry[0] for entry in pdb_graphs.values()]\n",
        "coords = [entry[1] for entry in pdb_graphs.values()]\n",
        "edge_indices = [entry[2] for entry in pdb_graphs.values()]"
      ],
      "metadata": {
        "id": "iOBzwHWawL43"
      },
      "id": "iOBzwHWawL43",
      "execution_count": 9,
      "outputs": []
    },
    {
      "cell_type": "code",
      "source": [
        "labels = [entry[3] for entry in pdb_graphs.values()]\n",
        "labels = [torch.min(l,torch.tensor([1.1])) for l in labels]\n",
        "labels = [torch.max(l,torch.tensor([-1])) for l in labels]"
      ],
      "metadata": {
        "id": "3uGEDbOwyn3u"
      },
      "id": "3uGEDbOwyn3u",
      "execution_count": 10,
      "outputs": []
    },
    {
      "cell_type": "code",
      "source": [
        "(node_train, node_test, \\\n",
        " coord_train, coord_test, \\\n",
        " edge_train, edge_test, \\\n",
        " y_train, y_test) = train_test_split(\n",
        "                                      node_features,\n",
        "                                      coords,\n",
        "                                      edge_indices,\n",
        "                                      labels,\n",
        "                                      test_size = 0.2,\n",
        "                                      random_state = 0\n",
        "                                      )"
      ],
      "metadata": {
        "id": "8DrRf0KrqQ3K"
      },
      "id": "8DrRf0KrqQ3K",
      "execution_count": 11,
      "outputs": []
    },
    {
      "cell_type": "code",
      "source": [
        "# Scaler for node features that are not one-hots\n",
        "scaler = ColumnTransformer(\n",
        "     [(\"scaler\", StandardScaler(), slice(20, 34))],\n",
        "     remainder='passthrough')\n",
        "# Fit scaler to training data\n",
        "scaler.fit(torch.concatenate(node_train))\n",
        "# Apply scalar to all splits\n",
        "node_train = [scaler.transform(entry) for entry in node_train]\n",
        "node_test = [scaler.transform(entry) for entry in node_test]"
      ],
      "metadata": {
        "id": "r39qTSKC376A"
      },
      "id": "r39qTSKC376A",
      "execution_count": 12,
      "outputs": []
    },
    {
      "cell_type": "markdown",
      "source": [
        "# Models"
      ],
      "metadata": {
        "id": "YdU5TW-NnjN4"
      },
      "id": "YdU5TW-NnjN4"
    },
    {
      "cell_type": "markdown",
      "source": [
        "## Random Forest, Depth Analysis"
      ],
      "metadata": {
        "id": "2R9xd_MznmKD"
      },
      "id": "2R9xd_MznmKD"
    },
    {
      "cell_type": "code",
      "source": [
        "from sklearn.ensemble import RandomForestRegressor\n",
        "from sklearn.model_selection import GridSearchCV"
      ],
      "metadata": {
        "id": "9g648iwGgFql"
      },
      "id": "9g648iwGgFql",
      "execution_count": 13,
      "outputs": []
    },
    {
      "cell_type": "code",
      "source": [
        "rf_x_train = np.concatenate(node_train)\n",
        "rf_x_test = np.concatenate(node_test)\n",
        "\n",
        "rf_y_train = np.concatenate(y_train)\n",
        "rf_y_test = np.concatenate(y_test)"
      ],
      "metadata": {
        "id": "Z1jJNj3cveup"
      },
      "id": "Z1jJNj3cveup",
      "execution_count": 14,
      "outputs": []
    },
    {
      "cell_type": "code",
      "source": [
        "train_r = []\n",
        "train_mae = []\n",
        "test_r = []\n",
        "test_mae = []\n",
        "depths = [5,10,15,20,25,30]\n",
        "for depth in tqdm(depths):\n",
        "  rf = RandomForestRegressor(random_state=0, max_depth=depth)\n",
        "  rf.fit(rf_x_train, rf_y_train)\n",
        "  rf_train_preds = rf.predict(rf_x_train)\n",
        "  rf_test_preds = rf.predict(rf_x_test)\n",
        "  train_r.append(pearsonr(rf_train_preds, rf_y_train)[0])\n",
        "  train_mae.append(mean_absolute_error(rf_train_preds, rf_y_train))\n",
        "  test_r.append(pearsonr(rf_test_preds, rf_y_test)[0])\n",
        "  test_mae.append(mean_absolute_error(rf_test_preds, rf_y_test))"
      ],
      "metadata": {
        "colab": {
          "base_uri": "https://localhost:8080/"
        },
        "id": "9zkx3Uom3cmn",
        "outputId": "58a1a4ad-bbb2-4b77-8b62-d310a2e1dc16"
      },
      "id": "9zkx3Uom3cmn",
      "execution_count": 15,
      "outputs": [
        {
          "output_type": "stream",
          "name": "stderr",
          "text": [
            "100%|██████████| 6/6 [08:27<00:00, 84.64s/it]\n"
          ]
        }
      ]
    },
    {
      "cell_type": "code",
      "source": [
        "plt.plot(depths, train_mae)\n",
        "plt.plot(depths, test_mae)\n",
        "plt.xlabel(\"Depth of Random Forest\")\n",
        "plt.ylabel(\"Pearson's Correlation Coefficient\")\n",
        "plt.show()"
      ],
      "metadata": {
        "colab": {
          "base_uri": "https://localhost:8080/",
          "height": 449
        },
        "id": "LyLre3hq6a7o",
        "outputId": "cdf4705a-e84e-4dfb-b4de-aba56891b5cf"
      },
      "id": "LyLre3hq6a7o",
      "execution_count": 16,
      "outputs": [
        {
          "output_type": "display_data",
          "data": {
            "text/plain": [
              "<Figure size 640x480 with 1 Axes>"
            ],
            "image/png": "[encoded data removed]"
          },
          "metadata": {}
        }
      ]
    },
    {
      "cell_type": "code",
      "source": [
        "purple = \"#772181\"\n",
        "orange = \"#f76f5c\"\n",
        "fig, ax1 = plt.subplots(figsize=(12, 6))\n",
        "ax2 = ax1.twinx()\n",
        "\n",
        "ax1.plot(depths, train_r, color=purple, lw=3, label=\"Train\")\n",
        "ax1.plot(depths, test_r, color=purple, lw=3, label=\"Test\", linestyle=\"dotted\")\n",
        "ax2.plot(depths, train_mae, color=orange, lw=3, label=\"Train\")\n",
        "ax2.plot(depths, test_mae, color=orange, lw=3, label=\"Test\", linestyle=\"dotted\")\n",
        "ax1.set_xlabel(\"Depth of Random Forest\", fontsize=14)\n",
        "ax1.set_ylabel(\"Pearson's Correlation Coefficient\", color=purple, fontsize=14)\n",
        "ax1.tick_params(axis=\"y\", labelcolor=purple)\n",
        "ax2.set_ylabel(\"Mean average error\", color=orange, fontsize=14)\n",
        "ax2.tick_params(axis=\"y\", labelcolor=orange)\n",
        "ax1.legend()\n",
        "ax2.legend()\n",
        "plt.show()\n",
        "fig.savefig(\"rf_depth.png\")\n",
        "\n",
        "from google.colab import files\n",
        "files.download(\"rf_depth.png\")"
      ],
      "metadata": {
        "colab": {
          "base_uri": "https://localhost:8080/",
          "height": 547
        },
        "id": "EwnqB1VJ409e",
        "outputId": "69ae252d-6ade-4d4c-ca0a-b2e2f0e1b445"
      },
      "id": "EwnqB1VJ409e",
      "execution_count": 17,
      "outputs": [
        {
          "output_type": "display_data",
          "data": {
            "text/plain": [
              "<Figure size 1200x600 with 2 Axes>"
            ],
            "image/png": "[encoded data removed]"
          },
          "metadata": {}
        },
        {
          "output_type": "display_data",
          "data": {
            "text/plain": [
              "<IPython.core.display.Javascript object>"
            ],
            "application/javascript": [
              "\n",
              "    async function download(id, filename, size) {\n",
              "      if (!google.colab.kernel.accessAllowed) {\n",
              "        return;\n",
              "      }\n",
              "      const div = document.createElement('div');\n",
              "      const label = document.createElement('label');\n",
              "      label.textContent = `Downloading \"${filename}\": `;\n",
              "      div.appendChild(label);\n",
              "      const progress = document.createElement('progress');\n",
              "      progress.max = size;\n",
              "      div.appendChild(progress);\n",
              "      document.body.appendChild(div);\n",
              "\n",
              "      const buffers = [];\n",
              "      let downloaded = 0;\n",
              "\n",
              "      const channel = await google.colab.kernel.comms.open(id);\n",
              "      // Send a message to notify the kernel that we're ready.\n",
              "      channel.send({})\n",
              "\n",
              "      for await (const message of channel.messages) {\n",
              "        // Send a message to notify the kernel that we're ready.\n",
              "        channel.send({})\n",
              "        if (message.buffers) {\n",
              "          for (const buffer of message.buffers) {\n",
              "            buffers.push(buffer);\n",
              "            downloaded += buffer.byteLength;\n",
              "            progress.value = downloaded;\n",
              "          }\n",
              "        }\n",
              "      }\n",
              "      const blob = new Blob(buffers, {type: 'application/binary'});\n",
              "      const a = document.createElement('a');\n",
              "      a.href = window.URL.createObjectURL(blob);\n",
              "      a.download = filename;\n",
              "      div.appendChild(a);\n",
              "      a.click();\n",
              "      div.remove();\n",
              "    }\n",
              "  "
            ]
          },
          "metadata": {}
        },
        {
          "output_type": "display_data",
          "data": {
            "text/plain": [
              "<IPython.core.display.Javascript object>"
            ],
            "application/javascript": [
              "download(\"download_913fd7f4-d0d0-4b50-b540-273f63d59b31\", \"rf_depth.png\", 76623)"
            ]
          },
          "metadata": {}
        }
      ]
    },
    {
      "cell_type": "markdown",
      "source": [
        "## Random Forest, Input Feature Analysis"
      ],
      "metadata": {
        "id": "QrC7OXW84o3i"
      },
      "id": "QrC7OXW84o3i"
    },
    {
      "cell_type": "code",
      "source": [
        "node_train_oh = np.concatenate([node_train[i][:,14:-8] for i in range(len(node_train))])\n",
        "node_train_oh_rsa_ss = np.concatenate([node_train[i][:,13:] for i in range(len(node_train))])\n",
        "node_train_oh_rsa = np.concatenate([node_train[i][:,13:-8] for i in range(len(node_train))])\n",
        "node_train_oh_ss = np.concatenate([node_train[i][:,14:] for i in range(len(node_train))])\n",
        "node_train_no_structural = np.concatenate([np.concatenate([node_train[i][:,:13],\n",
        "                                                           node_train[i][:,14:-8]],axis=1) for i in range(len(node_train))])"
      ],
      "metadata": {
        "id": "Q1RLdpY054zQ"
      },
      "id": "Q1RLdpY054zQ",
      "execution_count": null,
      "outputs": []
    },
    {
      "cell_type": "code",
      "source": [
        "node_test_oh = np.concatenate([node_test[i][:,14:-8] for i in range(len(node_test))])\n",
        "node_test_oh_rsa_ss = np.concatenate([node_test[i][:,13:] for i in range(len(node_test))])\n",
        "node_test_oh_rsa = np.concatenate([node_test[i][:,13:-8] for i in range(len(node_test))])\n",
        "node_test_oh_ss = np.concatenate([node_test[i][:,14:] for i in range(len(node_test))])\n",
        "node_test_no_structural = np.concatenate([np.concatenate([node_test[i][:,:13],\n",
        "                                                          node_test[i][:,14:-8]],axis=1) for i in range(len(node_test))])"
      ],
      "metadata": {
        "id": "cT94hmJvDh2w"
      },
      "id": "cT94hmJvDh2w",
      "execution_count": null,
      "outputs": []
    },
    {
      "cell_type": "code",
      "source": [
        "train_Xs = [node_train_oh, node_train_oh_rsa_ss, node_train_oh_rsa, node_train_oh_ss, node_train_no_structural]\n",
        "test_Xs = [node_test_oh, node_test_oh_rsa_ss, node_test_oh_rsa, node_test_oh_ss, node_test_no_structural]"
      ],
      "metadata": {
        "id": "e004F44fD16r"
      },
      "id": "e004F44fD16r",
      "execution_count": null,
      "outputs": []
    },
    {
      "cell_type": "code",
      "source": [],
      "metadata": {
        "colab": {
          "base_uri": "https://localhost:8080/"
        },
        "id": "1a_aB2LYFhv7",
        "outputId": "7b395033-cbe6-4a3b-9124-6afb202f1b0b"
      },
      "id": "1a_aB2LYFhv7",
      "execution_count": null,
      "outputs": [
        {
          "output_type": "execute_result",
          "data": {
            "text/plain": [
              "[0.2227795637055761,\n",
              " 0.54764707461155,\n",
              " 0.4783171150115747,\n",
              " 0.27405738465537843,\n",
              " 0.2228081438716483]"
            ]
          },
          "metadata": {},
          "execution_count": 160
        }
      ]
    },
    {
      "cell_type": "code",
      "source": [
        "train_r = []\n",
        "train_mae = []\n",
        "test_r = []\n",
        "test_mae = []\n",
        "\n",
        "for X_train, X_test in tqdm(zip(train_Xs, test_Xs), total=len(train_Xs)):\n",
        "  rf = RandomForestRegressor(random_state=0, max_depth=15)\n",
        "  rf.fit(X_train, rf_y_train)\n",
        "  rf_train_preds = rf.predict(X_train)\n",
        "  rf_test_preds = rf.predict(X_test)\n",
        "  train_r.append(pearsonr(rf_train_preds, rf_y_train)[0])\n",
        "  train_mae.append(mean_absolute_error(rf_train_preds, rf_y_train))\n",
        "  test_r.append(pearsonr(rf_test_preds, rf_y_test)[0])\n",
        "  test_mae.append(mean_absolute_error(rf_test_preds, rf_y_test))"
      ],
      "metadata": {
        "colab": {
          "base_uri": "https://localhost:8080/"
        },
        "id": "JPyXzfwbDrIB",
        "outputId": "274181bc-9e66-4937-9b01-3c31cc2954d6"
      },
      "id": "JPyXzfwbDrIB",
      "execution_count": null,
      "outputs": [
        {
          "output_type": "stream",
          "name": "stderr",
          "text": [
            "100%|██████████| 5/5 [02:24<00:00, 28.82s/it]\n"
          ]
        }
      ]
    },
    {
      "cell_type": "code",
      "source": [
        "rf = RandomForestRegressor(random_state=0, max_depth=15)\n",
        "rf.fit(rf_x_train, rf_y_train)\n",
        "rf_train_preds = rf.predict(rf_x_train)\n",
        "rf_test_preds = rf.predict(rf_x_test)\n",
        "train_r.append(pearsonr(rf_train_preds, rf_y_train)[0])\n",
        "train_mae.append(mean_absolute_error(rf_train_preds, rf_y_train))\n",
        "test_r.append(pearsonr(rf_test_preds, rf_y_test)[0])\n",
        "test_mae.append(mean_absolute_error(rf_test_preds, rf_y_test))"
      ],
      "metadata": {
        "id": "bMqUgnrUEXPh"
      },
      "id": "bMqUgnrUEXPh",
      "execution_count": null,
      "outputs": []
    },
    {
      "cell_type": "code",
      "source": [
        "train_Xs = [node_train_oh, node_train_oh_rsa_ss, node_train_oh_rsa, node_train_oh_ss, node_train_no_structural]\n",
        "test_Xs = [node_test_oh, node_test_oh_rsa_ss, node_test_oh_rsa, node_test_oh_ss, node_test_no_structural]"
      ],
      "metadata": {
        "id": "VwH5GE6JQ3v5"
      },
      "id": "VwH5GE6JQ3v5",
      "execution_count": null,
      "outputs": []
    },
    {
      "cell_type": "code",
      "source": [
        "print(test_r)\n",
        "print(test_mae)"
      ],
      "metadata": {
        "colab": {
          "base_uri": "https://localhost:8080/"
        },
        "id": "SnuZ4EoRIWCA",
        "outputId": "3b900512-0055-47b0-bf00-d9d007986c92"
      },
      "id": "SnuZ4EoRIWCA",
      "execution_count": null,
      "outputs": [
        {
          "output_type": "stream",
          "name": "stdout",
          "text": [
            "[0.2164244505143879, 0.4976410486854568, 0.45452443943857074, 0.26814079337046787, 0.2165189524212092, 0.49752522027623514]\n",
            "[0.2169883525350645, 0.1883281863335036, 0.196789125667399, 0.21338913701254125, 0.21698362691194623, 0.1874900646358246]\n"
          ]
        }
      ]
    },
    {
      "cell_type": "code",
      "source": [],
      "metadata": {
        "colab": {
          "base_uri": "https://localhost:8080/",
          "height": 448
        },
        "id": "BHLWrMv4Fsq1",
        "outputId": "df38a2f4-4327-4f41-f2b0-591900839b9f"
      },
      "id": "BHLWrMv4Fsq1",
      "execution_count": null,
      "outputs": [
        {
          "output_type": "execute_result",
          "data": {
            "text/plain": [
              "[<matplotlib.lines.Line2D at 0x7f611829e170>]"
            ]
          },
          "metadata": {},
          "execution_count": 166
        },
        {
          "output_type": "display_data",
          "data": {
            "text/plain": [
              "<Figure size 640x480 with 1 Axes>"
            ],
            "image/png": "[encoded data removed]"
          },
          "metadata": {}
        }
      ]
    },
    {
      "cell_type": "code",
      "source": [
        "plt.plot(test_r)"
      ],
      "metadata": {
        "colab": {
          "base_uri": "https://localhost:8080/",
          "height": 448
        },
        "id": "rAwuVpjLFuX2",
        "outputId": "186d1742-19f8-4b2a-a930-2eac41d2d7dc"
      },
      "id": "rAwuVpjLFuX2",
      "execution_count": null,
      "outputs": [
        {
          "output_type": "execute_result",
          "data": {
            "text/plain": [
              "[<matplotlib.lines.Line2D at 0x7f60fb6a5090>]"
            ]
          },
          "metadata": {},
          "execution_count": 167
        },
        {
          "output_type": "display_data",
          "data": {
            "text/plain": [
              "<Figure size 640x480 with 1 Axes>"
            ],
            "image/png": "[encoded data removed]"
          },
          "metadata": {}
        }
      ]
    },
    {
      "cell_type": "markdown",
      "source": [
        "## GCN, Input Feature Analysis"
      ],
      "metadata": {
        "id": "wPYbKYDzIfV0"
      },
      "id": "wPYbKYDzIfV0"
    },
    {
      "cell_type": "code",
      "source": [
        "import torch\n",
        "import torch.nn.functional as F\n",
        "from torch.nn import Linear, MSELoss\n",
        "from torch_geometric.nn import GCNConv, TransformerConv, ResGatedGraphConv\n",
        "\n",
        "class GraphTransformerGCN(torch.nn.Module):\n",
        "    def __init__(self,\n",
        "                 num_input_features,\n",
        "                 hidden_dim,\n",
        "                 seed=0\n",
        "                 ):\n",
        "        super().__init__()\n",
        "        torch.manual_seed(seed)\n",
        "        self.conv1 = GCNConv(num_input_features, hidden_dim)\n",
        "        self.transformer_conv = TransformerConv(hidden_dim,hidden_dim)\n",
        "        self.res_gated_conv = ResGatedGraphConv(hidden_dim, hidden_dim)\n",
        "        self.conv2 = GCNConv(hidden_dim, hidden_dim)\n",
        "        self.out = Linear(hidden_dim, 1)\n",
        "\n",
        "    def forward(self, data):\n",
        "        x, edge_index = data.x, data.edge_index\n",
        "\n",
        "        x = self.conv1(x, edge_index)\n",
        "        x = F.relu(x)\n",
        "        x = self.transformer_conv(x, edge_index)\n",
        "        x = self.res_gated_conv(x, edge_index)\n",
        "        x = self.conv2(x, edge_index)\n",
        "        x = F.relu(x)\n",
        "        x = self.out(x)\n",
        "\n",
        "        return x"
      ],
      "metadata": {
        "id": "l4OZb1j1Hqph"
      },
      "id": "l4OZb1j1Hqph",
      "execution_count": null,
      "outputs": []
    },
    {
      "cell_type": "code",
      "source": [
        "device = torch.device('cuda' if torch.cuda.is_available() else 'cpu')\n",
        "device"
      ],
      "metadata": {
        "colab": {
          "base_uri": "https://localhost:8080/"
        },
        "id": "Pv4T86XAIoCW",
        "outputId": "2fd3898c-2dd3-4191-c9c7-4867cbc1c15e"
      },
      "id": "Pv4T86XAIoCW",
      "execution_count": null,
      "outputs": [
        {
          "output_type": "execute_result",
          "data": {
            "text/plain": [
              "device(type='cuda')"
            ]
          },
          "metadata": {},
          "execution_count": 244
        }
      ]
    },
    {
      "cell_type": "code",
      "source": [
        "def train(model, optimizer, criterion, loader):\n",
        "  model.train()\n",
        "\n",
        "  for data in loader:\n",
        "      data = data.to(device)\n",
        "      optimizer.zero_grad()  # Clear gradients.\n",
        "      out = torch.squeeze(model(data))  # Perform a forward pass\n",
        "      loss = criterion(out, data.y)\n",
        "      loss.backward()  # Derive gradients.\n",
        "      optimizer.step()  # Update parameters based on gradients.\n",
        "\n",
        "  return loss.detach().cpu()\n",
        "\n",
        "@torch.no_grad()\n",
        "def test(model, loader):\n",
        "    model.eval()\n",
        "\n",
        "    labels = []\n",
        "    preds = []\n",
        "    for data in loader:\n",
        "        data = data.to(device)\n",
        "        out = model(data)\n",
        "        labels.append(data.y.cpu())\n",
        "        preds.append(out.cpu())\n",
        "    return (labels, preds)"
      ],
      "metadata": {
        "id": "a9J-8Za9Ir7j"
      },
      "id": "a9J-8Za9Ir7j",
      "execution_count": null,
      "outputs": []
    },
    {
      "cell_type": "code",
      "source": [
        "class ProteinDataset(Dataset):\n",
        "    def __init__(self, node_features, edge_indices, labels):\n",
        "        self.node_features = node_features\n",
        "        self.edge_indices = edge_indices\n",
        "        self.labels = labels\n",
        "        super(ProteinDataset, self).__init__()\n",
        "\n",
        "    def len(self):\n",
        "        return len(self.node_features)\n",
        "\n",
        "    def get(self, index):\n",
        "        x = torch.tensor(self.node_features[index]).to(torch.float32)   # Node features tensor for the protein graph\n",
        "        edge_index = to_undirected(self.edge_indices[index])   # Edge indices tensor for the protein graph\n",
        "        y = self.labels[index]  # Label tensor for the nodes in the protein graph\n",
        "\n",
        "        data = Data(x=x, edge_index=edge_index, y=y)\n",
        "\n",
        "        return data"
      ],
      "metadata": {
        "id": "ByiuPqoJI5hR"
      },
      "id": "ByiuPqoJI5hR",
      "execution_count": null,
      "outputs": []
    },
    {
      "cell_type": "code",
      "source": [
        "input_dim = 42\n",
        "hidden_dim = 32\n",
        "lr = 0.01"
      ],
      "metadata": {
        "id": "65e1uCg1I5UP"
      },
      "id": "65e1uCg1I5UP",
      "execution_count": null,
      "outputs": []
    },
    {
      "cell_type": "code",
      "source": [
        "def train_test_gcn(node_train, node_test):\n",
        "\n",
        "  train_dataset = ProteinDataset(node_train, edge_train, y_train)\n",
        "  test_dataset = ProteinDataset(node_test, edge_test, y_test)\n",
        "\n",
        "  batch_size = 32\n",
        "  train_loader = DataLoader(train_dataset, batch_size=batch_size, shuffle=True)\n",
        "  test_loader = DataLoader(test_dataset, batch_size=batch_size, shuffle=False)\n",
        "\n",
        "  input_dim = train_dataset[0].x.shape[1]\n",
        "  model = GraphTransformerGCN(input_dim,hidden_dim).to(device)\n",
        "  optimizer = torch.optim.Adam(model.parameters(),\n",
        "                             lr=lr,\n",
        "                             weight_decay=5e-4)\n",
        "  scheduler = torch.optim.lr_scheduler.MultiStepLR(\n",
        "                        optimizer,\n",
        "                        milestones=[25,50,75],\n",
        "                        gamma=0.1)\n",
        "  criterion = MSELoss()\n",
        "\n",
        "  losses = []\n",
        "  for epoch in range(100):\n",
        "      loss = train(model, optimizer, criterion, train_loader)\n",
        "      losses.append(loss)\n",
        "      scheduler.step()\n",
        "\n",
        "  gcn_train_labels, gcn_train_preds = test(model, train_loader)\n",
        "  gcn_test_labels, gcn_test_preds = test(model, test_loader)\n",
        "\n",
        "  gcn_train_labels = torch.concatenate(gcn_train_labels).tolist()\n",
        "  gcn_train_preds = torch.squeeze(torch.concatenate(gcn_train_preds)).tolist()\n",
        "  gcn_test_labels = torch.concatenate(gcn_test_labels).tolist()\n",
        "  gcn_test_preds = torch.squeeze(torch.concatenate(gcn_test_preds)).tolist()\n",
        "\n",
        "  return (pearsonr(gcn_train_labels, gcn_train_preds)[0], mean_absolute_error(gcn_train_labels, gcn_train_preds),\n",
        "          pearsonr(gcn_test_labels, gcn_test_preds)[0], mean_absolute_error(gcn_test_labels, gcn_test_preds))"
      ],
      "metadata": {
        "id": "R_bBZOWCIxTv"
      },
      "id": "R_bBZOWCIxTv",
      "execution_count": null,
      "outputs": []
    },
    {
      "cell_type": "code",
      "source": [
        "node_train_oh = [node_train[i][:,14:-8] for i in range(len(node_train))]\n",
        "node_train_oh_rsa_ss = [node_train[i][:,13:] for i in range(len(node_train))]\n",
        "node_train_oh_rsa = [node_train[i][:,13:-8] for i in range(len(node_train))]\n",
        "node_train_oh_ss = [node_train[i][:,14:] for i in range(len(node_train))]\n",
        "node_train_no_structural = [np.concatenate([node_train[i][:,:13],\n",
        "                            node_train[i][:,14:-8]],axis=1) for i in range(len(node_train))]"
      ],
      "metadata": {
        "id": "hEUnkexCKg6D"
      },
      "id": "hEUnkexCKg6D",
      "execution_count": null,
      "outputs": []
    },
    {
      "cell_type": "code",
      "source": [
        "node_test_oh = [node_test[i][:,14:-8] for i in range(len(node_test))]\n",
        "node_test_oh_rsa_ss = [node_test[i][:,13:] for i in range(len(node_test))]\n",
        "node_test_oh_rsa = [node_test[i][:,13:-8] for i in range(len(node_test))]\n",
        "node_test_oh_ss = [node_test[i][:,14:] for i in range(len(node_test))]\n",
        "node_test_no_structural = [np.concatenate([node_test[i][:,:13],\n",
        "                           node_test[i][:,14:-8]],axis=1) for i in range(len(node_test))]"
      ],
      "metadata": {
        "id": "KhAUlNTZKmZ_"
      },
      "id": "KhAUlNTZKmZ_",
      "execution_count": null,
      "outputs": []
    },
    {
      "cell_type": "code",
      "source": [
        "train_Xs = [node_train_oh, node_train_oh_rsa_ss, node_train_oh_rsa, node_train_oh_ss, node_train_no_structural, node_train]\n",
        "test_Xs = [node_test_oh, node_test_oh_rsa_ss, node_test_oh_rsa, node_test_oh_ss, node_test_no_structural, node_train]"
      ],
      "metadata": {
        "id": "sv4mXh0bKmwQ"
      },
      "id": "sv4mXh0bKmwQ",
      "execution_count": null,
      "outputs": []
    },
    {
      "cell_type": "code",
      "source": [
        "train_r = []\n",
        "train_mae = []\n",
        "test_r = []\n",
        "test_mae = []\n",
        "\n",
        "for X_train, X_test in tqdm(zip(train_Xs, test_Xs), total=len(train_Xs)):\n",
        "  outputs = train_test_gcn(X_train, X_test)\n",
        "  train_r.append(outputs[0])\n",
        "  train_mae.append(outputs[1])\n",
        "  test_r.append(outputs[2])\n",
        "  test_mae.append(outputs[3])"
      ],
      "metadata": {
        "colab": {
          "base_uri": "https://localhost:8080/",
          "height": 606
        },
        "id": "Vq6YQCN4JRa3",
        "outputId": "cdb034dc-7a8a-4771-8d57-c272525d3a6f"
      },
      "id": "Vq6YQCN4JRa3",
      "execution_count": null,
      "outputs": [
        {
          "output_type": "stream",
          "name": "stderr",
          "text": [
            " 17%|█▋        | 1/6 [01:05<05:26, 65.22s/it]/usr/local/lib/python3.10/dist-packages/torch_geometric/deprecation.py:22: UserWarning: 'data.DataLoader' is deprecated, use 'loader.DataLoader' instead\n",
            "  warnings.warn(out)\n",
            " 33%|███▎      | 2/6 [02:10<04:20, 65.16s/it]/usr/local/lib/python3.10/dist-packages/torch_geometric/deprecation.py:22: UserWarning: 'data.DataLoader' is deprecated, use 'loader.DataLoader' instead\n",
            "  warnings.warn(out)\n",
            " 50%|█████     | 3/6 [03:16<03:16, 65.51s/it]/usr/local/lib/python3.10/dist-packages/torch_geometric/deprecation.py:22: UserWarning: 'data.DataLoader' is deprecated, use 'loader.DataLoader' instead\n",
            "  warnings.warn(out)\n",
            " 67%|██████▋   | 4/6 [04:23<02:12, 66.24s/it]/usr/local/lib/python3.10/dist-packages/torch_geometric/deprecation.py:22: UserWarning: 'data.DataLoader' is deprecated, use 'loader.DataLoader' instead\n",
            "  warnings.warn(out)\n",
            " 83%|████████▎ | 5/6 [05:29<01:06, 66.12s/it]/usr/local/lib/python3.10/dist-packages/torch_geometric/deprecation.py:22: UserWarning: 'data.DataLoader' is deprecated, use 'loader.DataLoader' instead\n",
            "  warnings.warn(out)\n",
            " 83%|████████▎ | 5/6 [06:37<01:19, 79.43s/it]\n"
          ]
        },
        {
          "output_type": "error",
          "ename": "IndexError",
          "evalue": "ignored",
          "traceback": [
            "\u001b[0;31m---------------------------------------------------------------------------\u001b[0m",
            "\u001b[0;31mIndexError\u001b[0m                                Traceback (most recent call last)",
            "\u001b[0;32m<ipython-input-252-fda0c3e16013>\u001b[0m in \u001b[0;36m<cell line: 6>\u001b[0;34m()\u001b[0m\n\u001b[1;32m      5\u001b[0m \u001b[0;34m\u001b[0m\u001b[0m\n\u001b[1;32m      6\u001b[0m \u001b[0;32mfor\u001b[0m \u001b[0mX_train\u001b[0m\u001b[0;34m,\u001b[0m \u001b[0mX_test\u001b[0m \u001b[0;32min\u001b[0m \u001b[0mtqdm\u001b[0m\u001b[0;34m(\u001b[0m\u001b[0mzip\u001b[0m\u001b[0;34m(\u001b[0m\u001b[0mtrain_Xs\u001b[0m\u001b[0;34m,\u001b[0m \u001b[0mtest_Xs\u001b[0m\u001b[0;34m)\u001b[0m\u001b[0;34m,\u001b[0m \u001b[0mtotal\u001b[0m\u001b[0;34m=\u001b[0m\u001b[0mlen\u001b[0m\u001b[0;34m(\u001b[0m\u001b[0mtrain_Xs\u001b[0m\u001b[0;34m)\u001b[0m\u001b[0;34m)\u001b[0m\u001b[0;34m:\u001b[0m\u001b[0;34m\u001b[0m\u001b[0;34m\u001b[0m\u001b[0m\n\u001b[0;32m----> 7\u001b[0;31m   \u001b[0moutputs\u001b[0m \u001b[0;34m=\u001b[0m \u001b[0mtrain_test_gcn\u001b[0m\u001b[0;34m(\u001b[0m\u001b[0mX_train\u001b[0m\u001b[0;34m,\u001b[0m \u001b[0mX_test\u001b[0m\u001b[0;34m)\u001b[0m\u001b[0;34m\u001b[0m\u001b[0;34m\u001b[0m\u001b[0m\n\u001b[0m\u001b[1;32m      8\u001b[0m   \u001b[0mtrain_r\u001b[0m\u001b[0;34m.\u001b[0m\u001b[0mappend\u001b[0m\u001b[0;34m(\u001b[0m\u001b[0moutputs\u001b[0m\u001b[0;34m[\u001b[0m\u001b[0;36m0\u001b[0m\u001b[0;34m]\u001b[0m\u001b[0;34m)\u001b[0m\u001b[0;34m\u001b[0m\u001b[0;34m\u001b[0m\u001b[0m\n\u001b[1;32m      9\u001b[0m   \u001b[0mtrain_mae\u001b[0m\u001b[0;34m.\u001b[0m\u001b[0mappend\u001b[0m\u001b[0;34m(\u001b[0m\u001b[0moutputs\u001b[0m\u001b[0;34m[\u001b[0m\u001b[0;36m1\u001b[0m\u001b[0;34m]\u001b[0m\u001b[0;34m)\u001b[0m\u001b[0;34m\u001b[0m\u001b[0;34m\u001b[0m\u001b[0m\n",
            "\u001b[0;32m<ipython-input-248-abbd3de8f028>\u001b[0m in \u001b[0;36mtrain_test_gcn\u001b[0;34m(node_train, node_test)\u001b[0m\n\u001b[1;32m     26\u001b[0m \u001b[0;34m\u001b[0m\u001b[0m\n\u001b[1;32m     27\u001b[0m   \u001b[0mgcn_train_labels\u001b[0m\u001b[0;34m,\u001b[0m \u001b[0mgcn_train_preds\u001b[0m \u001b[0;34m=\u001b[0m \u001b[0mtest\u001b[0m\u001b[0;34m(\u001b[0m\u001b[0mmodel\u001b[0m\u001b[0;34m,\u001b[0m \u001b[0mtrain_loader\u001b[0m\u001b[0;34m)\u001b[0m\u001b[0;34m\u001b[0m\u001b[0;34m\u001b[0m\u001b[0m\n\u001b[0;32m---> 28\u001b[0;31m   \u001b[0mgcn_test_labels\u001b[0m\u001b[0;34m,\u001b[0m \u001b[0mgcn_test_preds\u001b[0m \u001b[0;34m=\u001b[0m \u001b[0mtest\u001b[0m\u001b[0;34m(\u001b[0m\u001b[0mmodel\u001b[0m\u001b[0;34m,\u001b[0m \u001b[0mtest_loader\u001b[0m\u001b[0;34m)\u001b[0m\u001b[0;34m\u001b[0m\u001b[0;34m\u001b[0m\u001b[0m\n\u001b[0m\u001b[1;32m     29\u001b[0m \u001b[0;34m\u001b[0m\u001b[0m\n\u001b[1;32m     30\u001b[0m   \u001b[0mgcn_train_labels\u001b[0m \u001b[0;34m=\u001b[0m \u001b[0mtorch\u001b[0m\u001b[0;34m.\u001b[0m\u001b[0mconcatenate\u001b[0m\u001b[0;34m(\u001b[0m\u001b[0mgcn_train_labels\u001b[0m\u001b[0;34m)\u001b[0m\u001b[0;34m.\u001b[0m\u001b[0mtolist\u001b[0m\u001b[0;34m(\u001b[0m\u001b[0;34m)\u001b[0m\u001b[0;34m\u001b[0m\u001b[0;34m\u001b[0m\u001b[0m\n",
            "\u001b[0;32m/usr/local/lib/python3.10/dist-packages/torch/utils/_contextlib.py\u001b[0m in \u001b[0;36mdecorate_context\u001b[0;34m(*args, **kwargs)\u001b[0m\n\u001b[1;32m    113\u001b[0m     \u001b[0;32mdef\u001b[0m \u001b[0mdecorate_context\u001b[0m\u001b[0;34m(\u001b[0m\u001b[0;34m*\u001b[0m\u001b[0margs\u001b[0m\u001b[0;34m,\u001b[0m \u001b[0;34m**\u001b[0m\u001b[0mkwargs\u001b[0m\u001b[0;34m)\u001b[0m\u001b[0;34m:\u001b[0m\u001b[0;34m\u001b[0m\u001b[0;34m\u001b[0m\u001b[0m\n\u001b[1;32m    114\u001b[0m         \u001b[0;32mwith\u001b[0m \u001b[0mctx_factory\u001b[0m\u001b[0;34m(\u001b[0m\u001b[0;34m)\u001b[0m\u001b[0;34m:\u001b[0m\u001b[0;34m\u001b[0m\u001b[0;34m\u001b[0m\u001b[0m\n\u001b[0;32m--> 115\u001b[0;31m             \u001b[0;32mreturn\u001b[0m \u001b[0mfunc\u001b[0m\u001b[0;34m(\u001b[0m\u001b[0;34m*\u001b[0m\u001b[0margs\u001b[0m\u001b[0;34m,\u001b[0m \u001b[0;34m**\u001b[0m\u001b[0mkwargs\u001b[0m\u001b[0;34m)\u001b[0m\u001b[0;34m\u001b[0m\u001b[0;34m\u001b[0m\u001b[0m\n\u001b[0m\u001b[1;32m    116\u001b[0m \u001b[0;34m\u001b[0m\u001b[0m\n\u001b[1;32m    117\u001b[0m     \u001b[0;32mreturn\u001b[0m \u001b[0mdecorate_context\u001b[0m\u001b[0;34m\u001b[0m\u001b[0;34m\u001b[0m\u001b[0m\n",
            "\u001b[0;32m<ipython-input-245-8f75b642d24d>\u001b[0m in \u001b[0;36mtest\u001b[0;34m(model, loader)\u001b[0m\n\u001b[1;32m     18\u001b[0m     \u001b[0mlabels\u001b[0m \u001b[0;34m=\u001b[0m \u001b[0;34m[\u001b[0m\u001b[0;34m]\u001b[0m\u001b[0;34m\u001b[0m\u001b[0;34m\u001b[0m\u001b[0m\n\u001b[1;32m     19\u001b[0m     \u001b[0mpreds\u001b[0m \u001b[0;34m=\u001b[0m \u001b[0;34m[\u001b[0m\u001b[0;34m]\u001b[0m\u001b[0;34m\u001b[0m\u001b[0;34m\u001b[0m\u001b[0m\n\u001b[0;32m---> 20\u001b[0;31m     \u001b[0;32mfor\u001b[0m \u001b[0mdata\u001b[0m \u001b[0;32min\u001b[0m \u001b[0mloader\u001b[0m\u001b[0;34m:\u001b[0m\u001b[0;34m\u001b[0m\u001b[0;34m\u001b[0m\u001b[0m\n\u001b[0m\u001b[1;32m     21\u001b[0m         \u001b[0mdata\u001b[0m \u001b[0;34m=\u001b[0m \u001b[0mdata\u001b[0m\u001b[0;34m.\u001b[0m\u001b[0mto\u001b[0m\u001b[0;34m(\u001b[0m\u001b[0mdevice\u001b[0m\u001b[0;34m)\u001b[0m\u001b[0;34m\u001b[0m\u001b[0;34m\u001b[0m\u001b[0m\n\u001b[1;32m     22\u001b[0m         \u001b[0mout\u001b[0m \u001b[0;34m=\u001b[0m \u001b[0mmodel\u001b[0m\u001b[0;34m(\u001b[0m\u001b[0mdata\u001b[0m\u001b[0;34m)\u001b[0m\u001b[0;34m\u001b[0m\u001b[0;34m\u001b[0m\u001b[0m\n",
            "\u001b[0;32m/usr/local/lib/python3.10/dist-packages/torch/utils/data/dataloader.py\u001b[0m in \u001b[0;36m__next__\u001b[0;34m(self)\u001b[0m\n\u001b[1;32m    631\u001b[0m                 \u001b[0;31m# TODO(https://github.com/pytorch/pytorch/issues/76750)\u001b[0m\u001b[0;34m\u001b[0m\u001b[0;34m\u001b[0m\u001b[0m\n\u001b[1;32m    632\u001b[0m                 \u001b[0mself\u001b[0m\u001b[0;34m.\u001b[0m\u001b[0m_reset\u001b[0m\u001b[0;34m(\u001b[0m\u001b[0;34m)\u001b[0m  \u001b[0;31m# type: ignore[call-arg]\u001b[0m\u001b[0;34m\u001b[0m\u001b[0;34m\u001b[0m\u001b[0m\n\u001b[0;32m--> 633\u001b[0;31m             \u001b[0mdata\u001b[0m \u001b[0;34m=\u001b[0m \u001b[0mself\u001b[0m\u001b[0;34m.\u001b[0m\u001b[0m_next_data\u001b[0m\u001b[0;34m(\u001b[0m\u001b[0;34m)\u001b[0m\u001b[0;34m\u001b[0m\u001b[0;34m\u001b[0m\u001b[0m\n\u001b[0m\u001b[1;32m    634\u001b[0m             \u001b[0mself\u001b[0m\u001b[0;34m.\u001b[0m\u001b[0m_num_yielded\u001b[0m \u001b[0;34m+=\u001b[0m \u001b[0;36m1\u001b[0m\u001b[0;34m\u001b[0m\u001b[0;34m\u001b[0m\u001b[0m\n\u001b[1;32m    635\u001b[0m             \u001b[0;32mif\u001b[0m \u001b[0mself\u001b[0m\u001b[0;34m.\u001b[0m\u001b[0m_dataset_kind\u001b[0m \u001b[0;34m==\u001b[0m \u001b[0m_DatasetKind\u001b[0m\u001b[0;34m.\u001b[0m\u001b[0mIterable\u001b[0m \u001b[0;32mand\u001b[0m\u001b[0;31m \u001b[0m\u001b[0;31m\\\u001b[0m\u001b[0;34m\u001b[0m\u001b[0;34m\u001b[0m\u001b[0m\n",
            "\u001b[0;32m/usr/local/lib/python3.10/dist-packages/torch/utils/data/dataloader.py\u001b[0m in \u001b[0;36m_next_data\u001b[0;34m(self)\u001b[0m\n\u001b[1;32m    675\u001b[0m     \u001b[0;32mdef\u001b[0m \u001b[0m_next_data\u001b[0m\u001b[0;34m(\u001b[0m\u001b[0mself\u001b[0m\u001b[0;34m)\u001b[0m\u001b[0;34m:\u001b[0m\u001b[0;34m\u001b[0m\u001b[0;34m\u001b[0m\u001b[0m\n\u001b[1;32m    676\u001b[0m         \u001b[0mindex\u001b[0m \u001b[0;34m=\u001b[0m \u001b[0mself\u001b[0m\u001b[0;34m.\u001b[0m\u001b[0m_next_index\u001b[0m\u001b[0;34m(\u001b[0m\u001b[0;34m)\u001b[0m  \u001b[0;31m# may raise StopIteration\u001b[0m\u001b[0;34m\u001b[0m\u001b[0;34m\u001b[0m\u001b[0m\n\u001b[0;32m--> 677\u001b[0;31m         \u001b[0mdata\u001b[0m \u001b[0;34m=\u001b[0m \u001b[0mself\u001b[0m\u001b[0;34m.\u001b[0m\u001b[0m_dataset_fetcher\u001b[0m\u001b[0;34m.\u001b[0m\u001b[0mfetch\u001b[0m\u001b[0;34m(\u001b[0m\u001b[0mindex\u001b[0m\u001b[0;34m)\u001b[0m  \u001b[0;31m# may raise StopIteration\u001b[0m\u001b[0;34m\u001b[0m\u001b[0;34m\u001b[0m\u001b[0m\n\u001b[0m\u001b[1;32m    678\u001b[0m         \u001b[0;32mif\u001b[0m \u001b[0mself\u001b[0m\u001b[0;34m.\u001b[0m\u001b[0m_pin_memory\u001b[0m\u001b[0;34m:\u001b[0m\u001b[0;34m\u001b[0m\u001b[0;34m\u001b[0m\u001b[0m\n\u001b[1;32m    679\u001b[0m             \u001b[0mdata\u001b[0m \u001b[0;34m=\u001b[0m \u001b[0m_utils\u001b[0m\u001b[0;34m.\u001b[0m\u001b[0mpin_memory\u001b[0m\u001b[0;34m.\u001b[0m\u001b[0mpin_memory\u001b[0m\u001b[0;34m(\u001b[0m\u001b[0mdata\u001b[0m\u001b[0;34m,\u001b[0m \u001b[0mself\u001b[0m\u001b[0;34m.\u001b[0m\u001b[0m_pin_memory_device\u001b[0m\u001b[0;34m)\u001b[0m\u001b[0;34m\u001b[0m\u001b[0;34m\u001b[0m\u001b[0m\n",
            "\u001b[0;32m/usr/local/lib/python3.10/dist-packages/torch/utils/data/_utils/fetch.py\u001b[0m in \u001b[0;36mfetch\u001b[0;34m(self, possibly_batched_index)\u001b[0m\n\u001b[1;32m     49\u001b[0m                 \u001b[0mdata\u001b[0m \u001b[0;34m=\u001b[0m \u001b[0mself\u001b[0m\u001b[0;34m.\u001b[0m\u001b[0mdataset\u001b[0m\u001b[0;34m.\u001b[0m\u001b[0m__getitems__\u001b[0m\u001b[0;34m(\u001b[0m\u001b[0mpossibly_batched_index\u001b[0m\u001b[0;34m)\u001b[0m\u001b[0;34m\u001b[0m\u001b[0;34m\u001b[0m\u001b[0m\n\u001b[1;32m     50\u001b[0m             \u001b[0;32melse\u001b[0m\u001b[0;34m:\u001b[0m\u001b[0;34m\u001b[0m\u001b[0;34m\u001b[0m\u001b[0m\n\u001b[0;32m---> 51\u001b[0;31m                 \u001b[0mdata\u001b[0m \u001b[0;34m=\u001b[0m \u001b[0;34m[\u001b[0m\u001b[0mself\u001b[0m\u001b[0;34m.\u001b[0m\u001b[0mdataset\u001b[0m\u001b[0;34m[\u001b[0m\u001b[0midx\u001b[0m\u001b[0;34m]\u001b[0m \u001b[0;32mfor\u001b[0m \u001b[0midx\u001b[0m \u001b[0;32min\u001b[0m \u001b[0mpossibly_batched_index\u001b[0m\u001b[0;34m]\u001b[0m\u001b[0;34m\u001b[0m\u001b[0;34m\u001b[0m\u001b[0m\n\u001b[0m\u001b[1;32m     52\u001b[0m         \u001b[0;32melse\u001b[0m\u001b[0;34m:\u001b[0m\u001b[0;34m\u001b[0m\u001b[0;34m\u001b[0m\u001b[0m\n\u001b[1;32m     53\u001b[0m             \u001b[0mdata\u001b[0m \u001b[0;34m=\u001b[0m \u001b[0mself\u001b[0m\u001b[0;34m.\u001b[0m\u001b[0mdataset\u001b[0m\u001b[0;34m[\u001b[0m\u001b[0mpossibly_batched_index\u001b[0m\u001b[0;34m]\u001b[0m\u001b[0;34m\u001b[0m\u001b[0;34m\u001b[0m\u001b[0m\n",
            "\u001b[0;32m/usr/local/lib/python3.10/dist-packages/torch/utils/data/_utils/fetch.py\u001b[0m in \u001b[0;36m<listcomp>\u001b[0;34m(.0)\u001b[0m\n\u001b[1;32m     49\u001b[0m                 \u001b[0mdata\u001b[0m \u001b[0;34m=\u001b[0m \u001b[0mself\u001b[0m\u001b[0;34m.\u001b[0m\u001b[0mdataset\u001b[0m\u001b[0;34m.\u001b[0m\u001b[0m__getitems__\u001b[0m\u001b[0;34m(\u001b[0m\u001b[0mpossibly_batched_index\u001b[0m\u001b[0;34m)\u001b[0m\u001b[0;34m\u001b[0m\u001b[0;34m\u001b[0m\u001b[0m\n\u001b[1;32m     50\u001b[0m             \u001b[0;32melse\u001b[0m\u001b[0;34m:\u001b[0m\u001b[0;34m\u001b[0m\u001b[0;34m\u001b[0m\u001b[0m\n\u001b[0;32m---> 51\u001b[0;31m                 \u001b[0mdata\u001b[0m \u001b[0;34m=\u001b[0m \u001b[0;34m[\u001b[0m\u001b[0mself\u001b[0m\u001b[0;34m.\u001b[0m\u001b[0mdataset\u001b[0m\u001b[0;34m[\u001b[0m\u001b[0midx\u001b[0m\u001b[0;34m]\u001b[0m \u001b[0;32mfor\u001b[0m \u001b[0midx\u001b[0m \u001b[0;32min\u001b[0m \u001b[0mpossibly_batched_index\u001b[0m\u001b[0;34m]\u001b[0m\u001b[0;34m\u001b[0m\u001b[0;34m\u001b[0m\u001b[0m\n\u001b[0m\u001b[1;32m     52\u001b[0m         \u001b[0;32melse\u001b[0m\u001b[0;34m:\u001b[0m\u001b[0;34m\u001b[0m\u001b[0;34m\u001b[0m\u001b[0m\n\u001b[1;32m     53\u001b[0m             \u001b[0mdata\u001b[0m \u001b[0;34m=\u001b[0m \u001b[0mself\u001b[0m\u001b[0;34m.\u001b[0m\u001b[0mdataset\u001b[0m\u001b[0;34m[\u001b[0m\u001b[0mpossibly_batched_index\u001b[0m\u001b[0;34m]\u001b[0m\u001b[0;34m\u001b[0m\u001b[0;34m\u001b[0m\u001b[0m\n",
            "\u001b[0;32m/usr/local/lib/python3.10/dist-packages/torch_geometric/data/dataset.py\u001b[0m in \u001b[0;36m__getitem__\u001b[0;34m(self, idx)\u001b[0m\n\u001b[1;32m    256\u001b[0m                 or (isinstance(idx, np.ndarray) and np.isscalar(idx))):\n\u001b[1;32m    257\u001b[0m \u001b[0;34m\u001b[0m\u001b[0m\n\u001b[0;32m--> 258\u001b[0;31m             \u001b[0mdata\u001b[0m \u001b[0;34m=\u001b[0m \u001b[0mself\u001b[0m\u001b[0;34m.\u001b[0m\u001b[0mget\u001b[0m\u001b[0;34m(\u001b[0m\u001b[0mself\u001b[0m\u001b[0;34m.\u001b[0m\u001b[0mindices\u001b[0m\u001b[0;34m(\u001b[0m\u001b[0;34m)\u001b[0m\u001b[0;34m[\u001b[0m\u001b[0midx\u001b[0m\u001b[0;34m]\u001b[0m\u001b[0;34m)\u001b[0m\u001b[0;34m\u001b[0m\u001b[0;34m\u001b[0m\u001b[0m\n\u001b[0m\u001b[1;32m    259\u001b[0m             \u001b[0mdata\u001b[0m \u001b[0;34m=\u001b[0m \u001b[0mdata\u001b[0m \u001b[0;32mif\u001b[0m \u001b[0mself\u001b[0m\u001b[0;34m.\u001b[0m\u001b[0mtransform\u001b[0m \u001b[0;32mis\u001b[0m \u001b[0;32mNone\u001b[0m \u001b[0;32melse\u001b[0m \u001b[0mself\u001b[0m\u001b[0;34m.\u001b[0m\u001b[0mtransform\u001b[0m\u001b[0;34m(\u001b[0m\u001b[0mdata\u001b[0m\u001b[0;34m)\u001b[0m\u001b[0;34m\u001b[0m\u001b[0;34m\u001b[0m\u001b[0m\n\u001b[1;32m    260\u001b[0m             \u001b[0;32mreturn\u001b[0m \u001b[0mdata\u001b[0m\u001b[0;34m\u001b[0m\u001b[0;34m\u001b[0m\u001b[0m\n",
            "\u001b[0;32m<ipython-input-246-144f414a53ee>\u001b[0m in \u001b[0;36mget\u001b[0;34m(self, index)\u001b[0m\n\u001b[1;32m     11\u001b[0m     \u001b[0;32mdef\u001b[0m \u001b[0mget\u001b[0m\u001b[0;34m(\u001b[0m\u001b[0mself\u001b[0m\u001b[0;34m,\u001b[0m \u001b[0mindex\u001b[0m\u001b[0;34m)\u001b[0m\u001b[0;34m:\u001b[0m\u001b[0;34m\u001b[0m\u001b[0;34m\u001b[0m\u001b[0m\n\u001b[1;32m     12\u001b[0m         \u001b[0mx\u001b[0m \u001b[0;34m=\u001b[0m \u001b[0mtorch\u001b[0m\u001b[0;34m.\u001b[0m\u001b[0mtensor\u001b[0m\u001b[0;34m(\u001b[0m\u001b[0mself\u001b[0m\u001b[0;34m.\u001b[0m\u001b[0mnode_features\u001b[0m\u001b[0;34m[\u001b[0m\u001b[0mindex\u001b[0m\u001b[0;34m]\u001b[0m\u001b[0;34m)\u001b[0m\u001b[0;34m.\u001b[0m\u001b[0mto\u001b[0m\u001b[0;34m(\u001b[0m\u001b[0mtorch\u001b[0m\u001b[0;34m.\u001b[0m\u001b[0mfloat32\u001b[0m\u001b[0;34m)\u001b[0m   \u001b[0;31m# Node features tensor for the protein graph\u001b[0m\u001b[0;34m\u001b[0m\u001b[0;34m\u001b[0m\u001b[0m\n\u001b[0;32m---> 13\u001b[0;31m         \u001b[0medge_index\u001b[0m \u001b[0;34m=\u001b[0m \u001b[0mto_undirected\u001b[0m\u001b[0;34m(\u001b[0m\u001b[0mself\u001b[0m\u001b[0;34m.\u001b[0m\u001b[0medge_indices\u001b[0m\u001b[0;34m[\u001b[0m\u001b[0mindex\u001b[0m\u001b[0;34m]\u001b[0m\u001b[0;34m)\u001b[0m   \u001b[0;31m# Edge indices tensor for the protein graph\u001b[0m\u001b[0;34m\u001b[0m\u001b[0;34m\u001b[0m\u001b[0m\n\u001b[0m\u001b[1;32m     14\u001b[0m         \u001b[0my\u001b[0m \u001b[0;34m=\u001b[0m \u001b[0mself\u001b[0m\u001b[0;34m.\u001b[0m\u001b[0mlabels\u001b[0m\u001b[0;34m[\u001b[0m\u001b[0mindex\u001b[0m\u001b[0;34m]\u001b[0m  \u001b[0;31m# Label tensor for the nodes in the protein graph\u001b[0m\u001b[0;34m\u001b[0m\u001b[0;34m\u001b[0m\u001b[0m\n\u001b[1;32m     15\u001b[0m \u001b[0;34m\u001b[0m\u001b[0m\n",
            "\u001b[0;31mIndexError\u001b[0m: list index out of range"
          ]
        }
      ]
    },
    {
      "cell_type": "code",
      "source": [
        "train_Xs = [node_train_oh, node_train_oh_rsa_ss, node_train_oh_rsa, node_train_oh_ss, node_train_no_structural, node_train]\n",
        "test_Xs = [node_test_oh, node_test_oh_rsa_ss, node_test_oh_rsa, node_test_oh_ss, node_test_no_structural, node_train]"
      ],
      "metadata": {
        "id": "DVJrVK9AOn9d"
      },
      "id": "DVJrVK9AOn9d",
      "execution_count": null,
      "outputs": []
    },
    {
      "cell_type": "code",
      "source": [
        "print(test_r)"
      ],
      "metadata": {
        "colab": {
          "base_uri": "https://localhost:8080/"
        },
        "id": "FuEVlxZKJ4eh",
        "outputId": "4dc563ae-7a54-43c4-c045-5e889f6cf004"
      },
      "id": "FuEVlxZKJ4eh",
      "execution_count": null,
      "outputs": [
        {
          "output_type": "stream",
          "name": "stdout",
          "text": [
            "[0.5179231340872608, 0.5871260102271567, 0.5591139291788103, 0.5471058805318105, 0.544087662341084]\n"
          ]
        }
      ]
    },
    {
      "cell_type": "code",
      "source": [
        "print(test_mae)"
      ],
      "metadata": {
        "colab": {
          "base_uri": "https://localhost:8080/"
        },
        "id": "edEi1-R4Oaga",
        "outputId": "1da1ce38-df07-41cd-aa06-3f880e9d43d6"
      },
      "id": "edEi1-R4Oaga",
      "execution_count": null,
      "outputs": [
        {
          "output_type": "stream",
          "name": "stdout",
          "text": [
            "[0.18888032671878185, 0.1768633335800198, 0.18249562625864668, 0.1835864585940854, 0.18403361599675136]\n"
          ]
        }
      ]
    },
    {
      "cell_type": "code",
      "source": [
        "outputs = train_test_gcn(node_train, node_test)\n",
        "train_r.append(outputs[0])\n",
        "train_mae.append(outputs[1])\n",
        "test_r.append(outputs[2])\n",
        "test_mae.append(outputs[3])"
      ],
      "metadata": {
        "colab": {
          "base_uri": "https://localhost:8080/"
        },
        "id": "kOTzekyLOh4y",
        "outputId": "5aaf9acb-7d18-4ac8-f475-b498169fbdb7"
      },
      "id": "kOTzekyLOh4y",
      "execution_count": null,
      "outputs": [
        {
          "output_type": "stream",
          "name": "stderr",
          "text": [
            "/usr/local/lib/python3.10/dist-packages/torch_geometric/deprecation.py:22: UserWarning: 'data.DataLoader' is deprecated, use 'loader.DataLoader' instead\n",
            "  warnings.warn(out)\n"
          ]
        }
      ]
    },
    {
      "cell_type": "code",
      "source": [
        "print(test_r)\n",
        "print(test_mae)"
      ],
      "metadata": {
        "colab": {
          "base_uri": "https://localhost:8080/"
        },
        "id": "WCkvYi5ZPaQU",
        "outputId": "af3fff57-57d1-4102-de60-d3218c978642"
      },
      "id": "WCkvYi5ZPaQU",
      "execution_count": null,
      "outputs": [
        {
          "output_type": "stream",
          "name": "stdout",
          "text": [
            "[0.5179231340872608, 0.5871260102271567, 0.5591139291788103, 0.5471058805318105, 0.544087662341084, 0.61410608515031]\n"
          ]
        }
      ]
    },
    {
      "cell_type": "code",
      "source": [
        "print(test_mae)"
      ],
      "metadata": {
        "colab": {
          "base_uri": "https://localhost:8080/"
        },
        "id": "6LQGuEogPZDg",
        "outputId": "8759b80d-5f7e-4642-d9ed-6b603a505a55"
      },
      "id": "6LQGuEogPZDg",
      "execution_count": null,
      "outputs": [
        {
          "output_type": "stream",
          "name": "stdout",
          "text": [
            "[0.18888032671878185, 0.1768633335800198, 0.18249562625864668, 0.1835864585940854, 0.18403361599675136, 0.17145000199149749]\n"
          ]
        }
      ]
    },
    {
      "cell_type": "code",
      "source": [],
      "metadata": {
        "id": "mh76dT-OPwpV"
      },
      "id": "mh76dT-OPwpV",
      "execution_count": null,
      "outputs": []
    }
  ],
  "metadata": {
    "kernelspec": {
      "display_name": "Python 3",
      "name": "python3"
    },
    "language_info": {
      "codemirror_mode": {
        "name": "ipython",
        "version": 3
      },
      "file_extension": ".py",
      "mimetype": "text/x-python",
      "name": "python",
      "nbconvert_exporter": "python",
      "pygments_lexer": "ipython3",
      "version": "3.7.13"
    },
    "colab": {
      "provenance": [],
      "collapsed_sections": [
        "4HeizLdqwiRD"
      ],
      "gpuType": "T4"
    },
    "accelerator": "GPU"
  },
  "nbformat": 4,
  "nbformat_minor": 5
}