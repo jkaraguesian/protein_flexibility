{
 "cells": [
  {
   "cell_type": "code",
   "execution_count": 1,
   "id": "2fd3dfb4",
   "metadata": {},
   "outputs": [],
   "source": [
    "import pandas as pd\n",
    "import numpy as np\n",
    "from tqdm import tqdm\n",
    "import json\n",
    "\n",
    "from sklearn import preprocessing\n",
    "import torch\n",
    "# from torch_geometric.data import Data, Dataset, InMemoryDataset\n",
    "# from graphein.protein.config import ProteinGraphConfig\n",
    "# from graphein.ml.conversion import GraphFormatConvertor\n",
    "import graphein.protein as gp\n",
    "from functools import partial\n",
    "from graphein.ml.conversion import GraphFormatConvertor\n",
    "from graphein.protein.graphs import construct_graph\n",
    "from graphein.protein.graphs import read_pdb_to_dataframe\n",
    "\n",
    "from IPython.display import clear_output\n",
    "clear_output()"
   ]
  },
  {
   "cell_type": "code",
   "execution_count": 2,
   "id": "d997ca44",
   "metadata": {},
   "outputs": [
    {
     "name": "stderr",
     "output_type": "stream",
     "text": [
      "/opt/anaconda3/envs/dror_x64/lib/python3.7/site-packages/IPython/core/interactiveshell.py:3457: DtypeWarning: Columns (5) have mixed types.Specify dtype option on import or set low_memory=False.\n",
      "  exec(code_obj, self.user_global_ns, self.user_ns)\n"
     ]
    }
   ],
   "source": [
    "df = pd.read_csv('dataset.csv')"
   ]
  },
  {
   "cell_type": "markdown",
   "id": "7cf28f1b",
   "metadata": {},
   "source": [
    "# Graphein"
   ]
  },
  {
   "cell_type": "code",
   "execution_count": 3,
   "id": "8d4c1d2c",
   "metadata": {},
   "outputs": [],
   "source": [
    "def extract_residues_with_data(graphein_df, data_df):\n",
    "    \n",
    "    residues_to_keep = list(data_df.pdb_chain + data_df.pdb_resi.apply(lambda x: str(x)))\n",
    "    graphein_df['temp'] = graphein_df.chain_id + graphein_df.residue_number.apply(lambda x: str(x))\n",
    "    graphein_df = graphein_df[graphein_df.temp.isin(residues_to_keep)].copy()\n",
    "    \n",
    "    return graphein_df"
   ]
  },
  {
   "cell_type": "code",
   "execution_count": 4,
   "id": "5b27e1e5",
   "metadata": {},
   "outputs": [],
   "source": [
    "def get_node_features(graph, dssp_df, ss_label_binarizer, features):\n",
    "    \n",
    "    node_features = []\n",
    "    for feat_name in features:\n",
    "        if feat_name == \"rsa\":\n",
    "            feat = torch.tensor(dssp_df.rsa)\n",
    "        elif feat_name == \"ss\":\n",
    "            feat = torch.tensor(ss_label_binarizer.transform(dssp_df.ss))\n",
    "        else:\n",
    "            feat = graph[feat_name]\n",
    "        if feat.dim() == 1:\n",
    "            feat = feat.unsqueeze(dim=1)\n",
    "        node_features.append(feat)\n",
    "\n",
    "    return torch.concatenate(node_features, dim=1)"
   ]
  },
  {
   "cell_type": "code",
   "execution_count": 5,
   "id": "b54f1729",
   "metadata": {},
   "outputs": [],
   "source": [
    "def generate_protein_graph(pdb_code, data_df, label, config, features, ss_label_binarizer, convertor):\n",
    "    \n",
    "    data_df = data_df[data_df.pdb_id==pdb_code].copy();\n",
    "    raw_df = read_pdb_to_dataframe(pdb_code=pdb_code);\n",
    "    graphein_df = extract_residues_with_data(raw_df, data_df);\n",
    "    graph = construct_graph(config=config, df=graphein_df);\n",
    "    dssp_df = graph.graph['dssp_df']\n",
    "    graph = convertor(graph);\n",
    "    \n",
    "    node_features = get_node_features(graph, dssp_df, ss_label_binarizer, features);\n",
    "    coords = graph._store['coords']\n",
    "    edge_map = graph._store['edge_index']\n",
    "    labels = torch.tensor(list(data_df[label]))\n",
    "    \n",
    "    return node_features, coords, edge_map, labels"
   ]
  },
  {
   "cell_type": "code",
   "execution_count": 6,
   "id": "3f5c9014",
   "metadata": {},
   "outputs": [],
   "source": [
    "label = 's2calc'"
   ]
  },
  {
   "cell_type": "code",
   "execution_count": 7,
   "id": "6e14987a",
   "metadata": {},
   "outputs": [],
   "source": [
    "edge_funcs = {\"edge_construction_functions\": [gp.add_peptide_bonds,\n",
    "                                              gp.add_hydrophobic_interactions,\n",
    "                                              gp.add_disulfide_interactions,\n",
    "                                              gp.add_hydrogen_bond_interactions,\n",
    "                                              gp.add_ionic_interactions,\n",
    "                                              gp.add_aromatic_interactions,\n",
    "                                              gp.add_aromatic_sulphur_interactions,\n",
    "                                              gp.add_cation_pi_interactions,\n",
    "                                              gp.add_vdw_interactions,\n",
    "                                              gp.add_pi_stacking_interactions,\n",
    "                                              gp.add_backbone_carbonyl_carbonyl_interactions]}\n",
    "\n",
    "graph_metadata = {\"graph_metadata_functions\" : [gp.rsa,\n",
    "                                                gp.secondary_structure]}\n",
    "node_metadata = {\"node_metadata_functions\" : [gp.amino_acid_one_hot,\n",
    "                                              gp.meiler_embedding,\n",
    "                                              partial(gp.expasy_protein_scale, add_separate=True)],\n",
    "                 \"dssp_config\": gp.DSSPConfig()}\n",
    "\n",
    "config = gp.ProteinGraphConfig(**{**edge_funcs, **graph_metadata, **node_metadata})\n",
    "\n",
    "features = [\"amino_acid_one_hot\", \"meiler\",\n",
    "            \"bulkiness\", \"averageflexibility\",\n",
    "            \"isoelectric_points\", \"pka_rgroup\",\n",
    "            \"polaritygrantham\", \"hphob_black\",\n",
    "            \"rsa\", \"ss\"]\n",
    "\n",
    "convertor = GraphFormatConvertor(src_format=\"nx\", dst_format=\"pyg\", columns=[\"amino_acid_one_hot\", \"meiler\",\n",
    "                                                                            \"bulkiness\", \"averageflexibility\",\n",
    "                                                                            \"isoelectric_points\", \"pka_rgroup\",\n",
    "                                                                            \"polaritygrantham\", \"hphob_black\",\n",
    "                                                                            \"coords\", \"edge_index\"])\n",
    "\n",
    "secondary_structures = ['H', 'B', 'E', 'G', 'I', 'T', 'S', '-']\n",
    "ss_lb = preprocessing.LabelBinarizer().fit(secondary_structures)"
   ]
  },
  {
   "cell_type": "code",
   "execution_count": 8,
   "id": "53d3768c",
   "metadata": {
    "scrolled": false
   },
   "outputs": [
    {
     "name": "stderr",
     "output_type": "stream",
     "text": [
      "100%|███████████████████████████████████████████████████████████████████████████████████████████████████████████████████| 1034/1034 [23:23<00:00,  1.36s/it]\n"
     ]
    }
   ],
   "source": [
    "pdb_ids = list(set(df.pdb_id))\n",
    "pdb_graphs = {}\n",
    "issue_count = 0\n",
    "for pdb_id in tqdm(pdb_ids):\n",
    "    try:\n",
    "        pdb_graphs[pdb_id] = generate_protein_graph(pdb_id, df, label, config,\n",
    "                                                features, ss_lb, convertor);\n",
    "    except (ValueError, RuntimeError, IndexError):\n",
    "        issue_count += 1  \n",
    "    clear_output()"
   ]
  },
  {
   "cell_type": "code",
   "execution_count": 9,
   "id": "395295a8",
   "metadata": {},
   "outputs": [],
   "source": [
    "# import pickle as pkl\n",
    "# pkl.dump(pdb_graphs, open('pdb_graphs.pkl', 'wb'))"
   ]
  },
  {
   "cell_type": "code",
   "execution_count": null,
   "id": "5b590952",
   "metadata": {},
   "outputs": [],
   "source": []
  },
  {
   "cell_type": "code",
   "execution_count": null,
   "id": "4ac48b2e",
   "metadata": {},
   "outputs": [],
   "source": []
  }
 ],
 "metadata": {
  "kernelspec": {
   "display_name": "Python 3 (ipykernel)",
   "language": "python",
   "name": "python3"
  },
  "language_info": {
   "codemirror_mode": {
    "name": "ipython",
    "version": 3
   },
   "file_extension": ".py",
   "mimetype": "text/x-python",
   "name": "python",
   "nbconvert_exporter": "python",
   "pygments_lexer": "ipython3",
   "version": "3.7.13"
  }
 },
 "nbformat": 4,
 "nbformat_minor": 5
}
